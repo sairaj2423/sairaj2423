{
 "cells": [
  {
   "cell_type": "code",
   "execution_count": 1,
   "id": "ce039c5c",
   "metadata": {},
   "outputs": [],
   "source": [
    "import pandas as pd\n",
    "import numpy as np\n",
    "import matplotlib.pyplot as plt\n",
    "%matplotlib inline\n",
    "import seaborn as sns"
   ]
  },
  {
   "cell_type": "code",
   "execution_count": 2,
   "id": "03d96fec",
   "metadata": {},
   "outputs": [],
   "source": [
    "data = pd.read_csv('epi_r.csv')"
   ]
  },
  {
   "cell_type": "code",
   "execution_count": 3,
   "id": "5cd68c17",
   "metadata": {},
   "outputs": [
    {
     "name": "stdout",
     "output_type": "stream",
     "text": [
      "<class 'pandas.core.frame.DataFrame'>\n",
      "RangeIndex: 20052 entries, 0 to 20051\n",
      "Columns: 680 entries, title to turkey\n",
      "dtypes: float64(679), object(1)\n",
      "memory usage: 104.0+ MB\n",
      "title            0\n",
      "rating           0\n",
      "calories      4117\n",
      "protein       4162\n",
      "fat           4183\n",
      "              ... \n",
      "cookbooks        0\n",
      "leftovers        0\n",
      "snack            0\n",
      "snack week       0\n",
      "turkey           0\n",
      "Length: 680, dtype: int64\n"
     ]
    }
   ],
   "source": [
    "data.info()\n",
    "print(data.isnull().sum())"
   ]
  },
  {
   "cell_type": "code",
   "execution_count": 4,
   "id": "3e972fc3",
   "metadata": {},
   "outputs": [
    {
     "data": {
      "text/plain": [
       "(20052, 680)"
      ]
     },
     "execution_count": 4,
     "metadata": {},
     "output_type": "execute_result"
    }
   ],
   "source": [
    "data.shape"
   ]
  },
  {
   "cell_type": "code",
   "execution_count": 5,
   "id": "78548d10",
   "metadata": {},
   "outputs": [
    {
     "data": {
      "text/html": [
       "<div>\n",
       "<style scoped>\n",
       "    .dataframe tbody tr th:only-of-type {\n",
       "        vertical-align: middle;\n",
       "    }\n",
       "\n",
       "    .dataframe tbody tr th {\n",
       "        vertical-align: top;\n",
       "    }\n",
       "\n",
       "    .dataframe thead th {\n",
       "        text-align: right;\n",
       "    }\n",
       "</style>\n",
       "<table border=\"1\" class=\"dataframe\">\n",
       "  <thead>\n",
       "    <tr style=\"text-align: right;\">\n",
       "      <th></th>\n",
       "      <th>title</th>\n",
       "      <th>rating</th>\n",
       "      <th>calories</th>\n",
       "      <th>protein</th>\n",
       "      <th>fat</th>\n",
       "      <th>sodium</th>\n",
       "      <th>#cakeweek</th>\n",
       "      <th>#wasteless</th>\n",
       "      <th>22-minute meals</th>\n",
       "      <th>3-ingredient recipes</th>\n",
       "      <th>...</th>\n",
       "      <th>yellow squash</th>\n",
       "      <th>yogurt</th>\n",
       "      <th>yonkers</th>\n",
       "      <th>yuca</th>\n",
       "      <th>zucchini</th>\n",
       "      <th>cookbooks</th>\n",
       "      <th>leftovers</th>\n",
       "      <th>snack</th>\n",
       "      <th>snack week</th>\n",
       "      <th>turkey</th>\n",
       "    </tr>\n",
       "  </thead>\n",
       "  <tbody>\n",
       "    <tr>\n",
       "      <th>0</th>\n",
       "      <td>Lentil, Apple, and Turkey Wrap</td>\n",
       "      <td>2.500</td>\n",
       "      <td>426.0</td>\n",
       "      <td>30.0</td>\n",
       "      <td>7.0</td>\n",
       "      <td>559.0</td>\n",
       "      <td>0.0</td>\n",
       "      <td>0.0</td>\n",
       "      <td>0.0</td>\n",
       "      <td>0.0</td>\n",
       "      <td>...</td>\n",
       "      <td>0.0</td>\n",
       "      <td>0.0</td>\n",
       "      <td>0.0</td>\n",
       "      <td>0.0</td>\n",
       "      <td>0.0</td>\n",
       "      <td>0.0</td>\n",
       "      <td>0.0</td>\n",
       "      <td>0.0</td>\n",
       "      <td>0.0</td>\n",
       "      <td>1.0</td>\n",
       "    </tr>\n",
       "    <tr>\n",
       "      <th>1</th>\n",
       "      <td>Boudin Blanc Terrine with Red Onion Confit</td>\n",
       "      <td>4.375</td>\n",
       "      <td>403.0</td>\n",
       "      <td>18.0</td>\n",
       "      <td>23.0</td>\n",
       "      <td>1439.0</td>\n",
       "      <td>0.0</td>\n",
       "      <td>0.0</td>\n",
       "      <td>0.0</td>\n",
       "      <td>0.0</td>\n",
       "      <td>...</td>\n",
       "      <td>0.0</td>\n",
       "      <td>0.0</td>\n",
       "      <td>0.0</td>\n",
       "      <td>0.0</td>\n",
       "      <td>0.0</td>\n",
       "      <td>0.0</td>\n",
       "      <td>0.0</td>\n",
       "      <td>0.0</td>\n",
       "      <td>0.0</td>\n",
       "      <td>0.0</td>\n",
       "    </tr>\n",
       "    <tr>\n",
       "      <th>2</th>\n",
       "      <td>Potato and Fennel Soup Hodge</td>\n",
       "      <td>3.750</td>\n",
       "      <td>165.0</td>\n",
       "      <td>6.0</td>\n",
       "      <td>7.0</td>\n",
       "      <td>165.0</td>\n",
       "      <td>0.0</td>\n",
       "      <td>0.0</td>\n",
       "      <td>0.0</td>\n",
       "      <td>0.0</td>\n",
       "      <td>...</td>\n",
       "      <td>0.0</td>\n",
       "      <td>0.0</td>\n",
       "      <td>0.0</td>\n",
       "      <td>0.0</td>\n",
       "      <td>0.0</td>\n",
       "      <td>0.0</td>\n",
       "      <td>0.0</td>\n",
       "      <td>0.0</td>\n",
       "      <td>0.0</td>\n",
       "      <td>0.0</td>\n",
       "    </tr>\n",
       "    <tr>\n",
       "      <th>3</th>\n",
       "      <td>Mahi-Mahi in Tomato Olive Sauce</td>\n",
       "      <td>5.000</td>\n",
       "      <td>NaN</td>\n",
       "      <td>NaN</td>\n",
       "      <td>NaN</td>\n",
       "      <td>NaN</td>\n",
       "      <td>0.0</td>\n",
       "      <td>0.0</td>\n",
       "      <td>0.0</td>\n",
       "      <td>0.0</td>\n",
       "      <td>...</td>\n",
       "      <td>0.0</td>\n",
       "      <td>0.0</td>\n",
       "      <td>0.0</td>\n",
       "      <td>0.0</td>\n",
       "      <td>0.0</td>\n",
       "      <td>0.0</td>\n",
       "      <td>0.0</td>\n",
       "      <td>0.0</td>\n",
       "      <td>0.0</td>\n",
       "      <td>0.0</td>\n",
       "    </tr>\n",
       "    <tr>\n",
       "      <th>4</th>\n",
       "      <td>Spinach Noodle Casserole</td>\n",
       "      <td>3.125</td>\n",
       "      <td>547.0</td>\n",
       "      <td>20.0</td>\n",
       "      <td>32.0</td>\n",
       "      <td>452.0</td>\n",
       "      <td>0.0</td>\n",
       "      <td>0.0</td>\n",
       "      <td>0.0</td>\n",
       "      <td>0.0</td>\n",
       "      <td>...</td>\n",
       "      <td>0.0</td>\n",
       "      <td>0.0</td>\n",
       "      <td>0.0</td>\n",
       "      <td>0.0</td>\n",
       "      <td>0.0</td>\n",
       "      <td>0.0</td>\n",
       "      <td>0.0</td>\n",
       "      <td>0.0</td>\n",
       "      <td>0.0</td>\n",
       "      <td>0.0</td>\n",
       "    </tr>\n",
       "    <tr>\n",
       "      <th>5</th>\n",
       "      <td>The Best Blts</td>\n",
       "      <td>4.375</td>\n",
       "      <td>948.0</td>\n",
       "      <td>19.0</td>\n",
       "      <td>79.0</td>\n",
       "      <td>1042.0</td>\n",
       "      <td>0.0</td>\n",
       "      <td>0.0</td>\n",
       "      <td>0.0</td>\n",
       "      <td>0.0</td>\n",
       "      <td>...</td>\n",
       "      <td>0.0</td>\n",
       "      <td>0.0</td>\n",
       "      <td>0.0</td>\n",
       "      <td>0.0</td>\n",
       "      <td>0.0</td>\n",
       "      <td>0.0</td>\n",
       "      <td>0.0</td>\n",
       "      <td>0.0</td>\n",
       "      <td>0.0</td>\n",
       "      <td>0.0</td>\n",
       "    </tr>\n",
       "    <tr>\n",
       "      <th>6</th>\n",
       "      <td>Ham and Spring Vegetable Salad with Shallot Vi...</td>\n",
       "      <td>4.375</td>\n",
       "      <td>NaN</td>\n",
       "      <td>NaN</td>\n",
       "      <td>NaN</td>\n",
       "      <td>NaN</td>\n",
       "      <td>0.0</td>\n",
       "      <td>0.0</td>\n",
       "      <td>0.0</td>\n",
       "      <td>0.0</td>\n",
       "      <td>...</td>\n",
       "      <td>0.0</td>\n",
       "      <td>0.0</td>\n",
       "      <td>0.0</td>\n",
       "      <td>0.0</td>\n",
       "      <td>0.0</td>\n",
       "      <td>0.0</td>\n",
       "      <td>0.0</td>\n",
       "      <td>0.0</td>\n",
       "      <td>0.0</td>\n",
       "      <td>0.0</td>\n",
       "    </tr>\n",
       "    <tr>\n",
       "      <th>7</th>\n",
       "      <td>Spicy-Sweet Kumquats</td>\n",
       "      <td>3.750</td>\n",
       "      <td>NaN</td>\n",
       "      <td>NaN</td>\n",
       "      <td>NaN</td>\n",
       "      <td>NaN</td>\n",
       "      <td>0.0</td>\n",
       "      <td>0.0</td>\n",
       "      <td>0.0</td>\n",
       "      <td>0.0</td>\n",
       "      <td>...</td>\n",
       "      <td>0.0</td>\n",
       "      <td>0.0</td>\n",
       "      <td>0.0</td>\n",
       "      <td>0.0</td>\n",
       "      <td>0.0</td>\n",
       "      <td>0.0</td>\n",
       "      <td>0.0</td>\n",
       "      <td>0.0</td>\n",
       "      <td>0.0</td>\n",
       "      <td>0.0</td>\n",
       "    </tr>\n",
       "    <tr>\n",
       "      <th>8</th>\n",
       "      <td>Korean Marinated Beef</td>\n",
       "      <td>4.375</td>\n",
       "      <td>170.0</td>\n",
       "      <td>7.0</td>\n",
       "      <td>10.0</td>\n",
       "      <td>1272.0</td>\n",
       "      <td>0.0</td>\n",
       "      <td>0.0</td>\n",
       "      <td>0.0</td>\n",
       "      <td>0.0</td>\n",
       "      <td>...</td>\n",
       "      <td>0.0</td>\n",
       "      <td>0.0</td>\n",
       "      <td>0.0</td>\n",
       "      <td>0.0</td>\n",
       "      <td>0.0</td>\n",
       "      <td>0.0</td>\n",
       "      <td>0.0</td>\n",
       "      <td>0.0</td>\n",
       "      <td>0.0</td>\n",
       "      <td>0.0</td>\n",
       "    </tr>\n",
       "    <tr>\n",
       "      <th>9</th>\n",
       "      <td>Ham Persillade with Mustard Potato Salad and M...</td>\n",
       "      <td>3.750</td>\n",
       "      <td>602.0</td>\n",
       "      <td>23.0</td>\n",
       "      <td>41.0</td>\n",
       "      <td>1696.0</td>\n",
       "      <td>0.0</td>\n",
       "      <td>0.0</td>\n",
       "      <td>0.0</td>\n",
       "      <td>0.0</td>\n",
       "      <td>...</td>\n",
       "      <td>0.0</td>\n",
       "      <td>0.0</td>\n",
       "      <td>0.0</td>\n",
       "      <td>0.0</td>\n",
       "      <td>0.0</td>\n",
       "      <td>0.0</td>\n",
       "      <td>0.0</td>\n",
       "      <td>0.0</td>\n",
       "      <td>0.0</td>\n",
       "      <td>0.0</td>\n",
       "    </tr>\n",
       "  </tbody>\n",
       "</table>\n",
       "<p>10 rows × 680 columns</p>\n",
       "</div>"
      ],
      "text/plain": [
       "                                               title  rating  calories  \\\n",
       "0                    Lentil, Apple, and Turkey Wrap    2.500     426.0   \n",
       "1        Boudin Blanc Terrine with Red Onion Confit    4.375     403.0   \n",
       "2                      Potato and Fennel Soup Hodge    3.750     165.0   \n",
       "3                   Mahi-Mahi in Tomato Olive Sauce    5.000       NaN   \n",
       "4                          Spinach Noodle Casserole    3.125     547.0   \n",
       "5                                     The Best Blts    4.375     948.0   \n",
       "6  Ham and Spring Vegetable Salad with Shallot Vi...   4.375       NaN   \n",
       "7                              Spicy-Sweet Kumquats    3.750       NaN   \n",
       "8                             Korean Marinated Beef    4.375     170.0   \n",
       "9  Ham Persillade with Mustard Potato Salad and M...   3.750     602.0   \n",
       "\n",
       "   protein   fat  sodium  #cakeweek  #wasteless  22-minute meals  \\\n",
       "0     30.0   7.0   559.0        0.0         0.0              0.0   \n",
       "1     18.0  23.0  1439.0        0.0         0.0              0.0   \n",
       "2      6.0   7.0   165.0        0.0         0.0              0.0   \n",
       "3      NaN   NaN     NaN        0.0         0.0              0.0   \n",
       "4     20.0  32.0   452.0        0.0         0.0              0.0   \n",
       "5     19.0  79.0  1042.0        0.0         0.0              0.0   \n",
       "6      NaN   NaN     NaN        0.0         0.0              0.0   \n",
       "7      NaN   NaN     NaN        0.0         0.0              0.0   \n",
       "8      7.0  10.0  1272.0        0.0         0.0              0.0   \n",
       "9     23.0  41.0  1696.0        0.0         0.0              0.0   \n",
       "\n",
       "   3-ingredient recipes  ...  yellow squash  yogurt  yonkers  yuca  zucchini  \\\n",
       "0                   0.0  ...            0.0     0.0      0.0   0.0       0.0   \n",
       "1                   0.0  ...            0.0     0.0      0.0   0.0       0.0   \n",
       "2                   0.0  ...            0.0     0.0      0.0   0.0       0.0   \n",
       "3                   0.0  ...            0.0     0.0      0.0   0.0       0.0   \n",
       "4                   0.0  ...            0.0     0.0      0.0   0.0       0.0   \n",
       "5                   0.0  ...            0.0     0.0      0.0   0.0       0.0   \n",
       "6                   0.0  ...            0.0     0.0      0.0   0.0       0.0   \n",
       "7                   0.0  ...            0.0     0.0      0.0   0.0       0.0   \n",
       "8                   0.0  ...            0.0     0.0      0.0   0.0       0.0   \n",
       "9                   0.0  ...            0.0     0.0      0.0   0.0       0.0   \n",
       "\n",
       "   cookbooks  leftovers  snack  snack week  turkey  \n",
       "0        0.0        0.0    0.0         0.0     1.0  \n",
       "1        0.0        0.0    0.0         0.0     0.0  \n",
       "2        0.0        0.0    0.0         0.0     0.0  \n",
       "3        0.0        0.0    0.0         0.0     0.0  \n",
       "4        0.0        0.0    0.0         0.0     0.0  \n",
       "5        0.0        0.0    0.0         0.0     0.0  \n",
       "6        0.0        0.0    0.0         0.0     0.0  \n",
       "7        0.0        0.0    0.0         0.0     0.0  \n",
       "8        0.0        0.0    0.0         0.0     0.0  \n",
       "9        0.0        0.0    0.0         0.0     0.0  \n",
       "\n",
       "[10 rows x 680 columns]"
      ]
     },
     "execution_count": 5,
     "metadata": {},
     "output_type": "execute_result"
    }
   ],
   "source": [
    "data.head(10)"
   ]
  },
  {
   "cell_type": "code",
   "execution_count": 6,
   "id": "ad1b8e52",
   "metadata": {},
   "outputs": [],
   "source": [
    "threshold = len(data) * 0.5 # remove columns with more than 50% missing values\n",
    "data_cleaned = data.dropna(axis=1, thresh=threshold)"
   ]
  },
  {
   "cell_type": "code",
   "execution_count": 7,
   "id": "af3d55e8",
   "metadata": {},
   "outputs": [],
   "source": [
    "for col in data_cleaned.columns:\n",
    "    if data_cleaned[col].dtype == 'object':  # For categorical columns\n",
    "        data_cleaned[col].fillna(data_cleaned[col].mode()[0], inplace=True)\n",
    "    else:  # For numerical columns\n",
    "        data_cleaned[col].fillna(data_cleaned[col].median(), inplace=True)\n"
   ]
  },
  {
   "cell_type": "code",
   "execution_count": 8,
   "id": "c438187b",
   "metadata": {},
   "outputs": [],
   "source": [
    "data_cleaned.drop_duplicates(inplace=True)"
   ]
  },
  {
   "cell_type": "code",
   "execution_count": 9,
   "id": "dca1865f",
   "metadata": {},
   "outputs": [],
   "source": [
    "for col in data_cleaned.select_dtypes(include='object').columns:\n",
    "    data_cleaned[col] = data_cleaned[col].astype('category')"
   ]
  },
  {
   "cell_type": "code",
   "execution_count": 10,
   "id": "963765dd",
   "metadata": {},
   "outputs": [
    {
     "data": {
      "text/plain": [
       "(18251, 680)"
      ]
     },
     "execution_count": 10,
     "metadata": {},
     "output_type": "execute_result"
    }
   ],
   "source": [
    "data_cleaned.shape"
   ]
  },
  {
   "cell_type": "code",
   "execution_count": 12,
   "id": "d70e802f",
   "metadata": {},
   "outputs": [
    {
     "name": "stdout",
     "output_type": "stream",
     "text": [
      "title         0\n",
      "rating        0\n",
      "calories      0\n",
      "protein       0\n",
      "fat           0\n",
      "             ..\n",
      "cookbooks     0\n",
      "leftovers     0\n",
      "snack         0\n",
      "snack week    0\n",
      "turkey        0\n",
      "Length: 680, dtype: int64\n"
     ]
    }
   ],
   "source": [
    "print(data_cleaned.isnull().sum())"
   ]
  },
  {
   "cell_type": "code",
   "execution_count": 21,
   "id": "eb4e3520",
   "metadata": {},
   "outputs": [
    {
     "data": {
      "image/png": "[encoded data removed]",
      "text/plain": [
       "<Figure size 432x288 with 1 Axes>"
      ]
     },
     "metadata": {
      "needs_background": "light"
     },
     "output_type": "display_data"
    }
   ],
   "source": [
    "sns.boxplot(x=data_cleaned['rating'])\n",
    "plt.title('Box Plot for rating')\n",
    "plt.show()"
   ]
  },
  {
   "cell_type": "code",
   "execution_count": 51,
   "id": "a653384f",
   "metadata": {},
   "outputs": [],
   "source": [
    "numeric_cols = data_cleaned.select_dtypes(include='number')  \n",
    "\n",
    "\n",
    "Q1 = numeric_cols.quantile(0.25)\n",
    "Q3 = numeric_cols.quantile(0.75)\n",
    "IQR = Q3 - Q1\n",
    "\n",
    "\n",
    "data_no_outliers = numeric_cols[~((numeric_cols < (Q1 - 1.5 * IQR)) | (numeric_cols > (Q3 + 1.5 * IQR))).any(axis=1)]\n",
    "\n",
    "\n",
    "categorical_cols = data_cleaned.select_dtypes(exclude='number')\n",
    "data_final = pd.concat([data_no_outliers, categorical_cols], axis=1)"
   ]
  },
  {
   "cell_type": "code",
   "execution_count": 62,
   "id": "b5e24691",
   "metadata": {},
   "outputs": [
    {
     "data": {
      "image/png": "[encoded data removed]",
      "text/plain": [
       "<Figure size 720x432 with 1 Axes>"
      ]
     },
     "metadata": {
      "needs_background": "light"
     },
     "output_type": "display_data"
    }
   ],
   "source": [
    "plt.figure(figsize=(10, 6))\n",
    "\n",
    "sns.histplot(data_final['calories'], bins=30)\n",
    "plt.title('Distribution of Calories')\n",
    "plt.xlabel('Calories')\n",
    "plt.ylabel('Frequency')\n",
    "plt.grid(True)\n",
    "plt.show()\n"
   ]
  },
  {
   "cell_type": "code",
   "execution_count": 54,
   "id": "5634d7eb",
   "metadata": {},
   "outputs": [
    {
     "data": {
      "image/png": "[encoded data removed]",
      "text/plain": [
       "<Figure size 720x432 with 1 Axes>"
      ]
     },
     "metadata": {
      "needs_background": "light"
     },
     "output_type": "display_data"
    }
   ],
   "source": [
    "plt.figure(figsize=(10, 6))\n",
    "sns.scatterplot(x='protein', y='calories', data=data_final, color='blue', marker='o')\n",
    "plt.title('Scatter Plot: Protein vs Calories')\n",
    "plt.xlabel('Protein (grams)')\n",
    "plt.ylabel('Calories')\n",
    "plt.grid(True)\n",
    "plt.show()\n"
   ]
  },
  {
   "cell_type": "code",
   "execution_count": 79,
   "id": "ed893f6e",
   "metadata": {},
   "outputs": [
    {
     "data": {
      "image/png": "[encoded data removed]",
      "text/plain": [
       "<Figure size 720x432 with 1 Axes>"
      ]
     },
     "metadata": {
      "needs_background": "light"
     },
     "output_type": "display_data"
    }
   ],
   "source": [
    "\n",
    "\n",
    "bins = [0, 200, 400, 600, 800] \n",
    "labels = ['0-200', '200-400', '400-600', '600-800']  \n",
    "data_final['calorie_range'] = pd.cut(data_final['calories'], bins=bins, labels=labels)\n",
    "\n",
    "\n",
    "grouped_data = data_final.groupby('calorie_range')[['protein', 'fat', 'sodium']].sum()\n",
    "\n",
    "\n",
    "grouped_data.plot(kind='bar', stacked=True, figsize=(10, 6), color=['#1f77b4', '#ff7f0e', '#2ca02c'])\n",
    "plt.title('Stacked Bar Chart of Protein, Fat, and Sodium for Different Calorie Ranges')\n",
    "plt.xlabel('Calorie Range')\n",
    "plt.ylabel('Total Amount (grams)')\n",
    "plt.xticks(rotation=45)\n",
    "plt.grid(axis='y')\n",
    "plt.legend(title='Nutrient')\n",
    "plt.tight_layout()\n",
    "plt.show()\n"
   ]
  },
  {
   "cell_type": "code",
   "execution_count": 75,
   "id": "91c19bbd",
   "metadata": {},
   "outputs": [
    {
     "data": {
      "image/png": "[encoded data removed]",
      "text/plain": [
       "<Figure size 576x576 with 1 Axes>"
      ]
     },
     "metadata": {},
     "output_type": "display_data"
    }
   ],
   "source": [
    "\n",
    "def rating_category(rating):\n",
    "    if rating < 3:\n",
    "        return 'Low Rating'\n",
    "    elif 3 <= rating < 4:\n",
    "        return 'Medium Rating'\n",
    "    else:\n",
    "        return 'High Rating'\n",
    "\n",
    "data_cleaned['rating_category'] = data_cleaned['rating'].apply(rating_category)\n",
    "\n",
    "\n",
    "ratings_count = data_final['rating_category'].value_counts()\n",
    "\n",
    "plt.figure(figsize=(8, 8))\n",
    "\n",
    "\n",
    "colors = ['#FF9999', '#66B3FF', '#99FF99'] \n",
    "\n",
    "\n",
    "plt.pie(ratings_count, \n",
    "        labels=ratings_count.index, \n",
    "        autopct='%1.1f%%', \n",
    "        startangle=140, \n",
    "        colors=colors,\n",
    "        shadow=True)\n",
    "\n",
    "plt.title('Distribution of Recipe Ratings', fontsize=16, fontweight='bold')\n",
    "plt.axis('equal')  \n",
    "plt.show()\n"
   ]
  },
  {
   "cell_type": "code",
   "execution_count": 83,
   "id": "5f466de5",
   "metadata": {},
   "outputs": [
    {
     "data": {
      "image/png": "[encoded data removed]",
      "text/plain": [
       "<Figure size 720x432 with 1 Axes>"
      ]
     },
     "metadata": {
      "needs_background": "light"
     },
     "output_type": "display_data"
    }
   ],
   "source": [
    "\n",
    "highly_rated_recipes = data_cleaned[data_cleaned['rating'] > 4.0]\n",
    "\n",
    "ingredients_list = highly_rated_recipes['title'].astype(str).apply(lambda x: x.split(','))\n",
    "\n",
    "all_ingredients = [ingredient.strip().lower() for sublist in ingredients_list for ingredient in sublist]\n",
    "ingredient_counts = Counter(all_ingredients)\n",
    "\n",
    "\n",
    "most_common_ingredients = ingredient_counts.most_common(10) \n",
    "\n",
    "ingredient_df = pd.DataFrame(most_common_ingredients, columns=['Ingredient', 'Count'])\n",
    "\n",
    "plt.figure(figsize=(10, 6))\n",
    "plt.barh(ingredient_df['Ingredient'], ingredient_df['Count'], color='skyblue')\n",
    "plt.xlabel('Count')\n",
    "plt.ylabel('Ingredient')\n",
    "plt.title('Top 10 Most Common Ingredients in Highly Rated Recipes')\n",
    "plt.gca().invert_yaxis()  \n",
    "plt.show()\n"
   ]
  },
  {
   "cell_type": "code",
   "execution_count": null,
   "id": "b3670061",
   "metadata": {},
   "outputs": [],
   "source": []
  }
 ],
 "metadata": {
  "kernelspec": {
   "display_name": "Python 3 (ipykernel)",
   "language": "python",
   "name": "python3"
  },
  "language_info": {
   "codemirror_mode": {
    "name": "ipython",
    "version": 3
   },
   "file_extension": ".py",
   "mimetype": "text/x-python",
   "name": "python",
   "nbconvert_exporter": "python",
   "pygments_lexer": "ipython3",
   "version": "3.9.7"
  }
 },
 "nbformat": 4,
 "nbformat_minor": 5
}
